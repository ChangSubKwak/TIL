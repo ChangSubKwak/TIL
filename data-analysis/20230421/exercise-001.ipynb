{
 "cells": [
  {
   "cell_type": "code",
   "execution_count": 8,
   "metadata": {},
   "outputs": [
    {
     "name": "stdout",
     "output_type": "stream",
     "text": [
      "[32]\n",
      "[[  8  13   8  11]\n",
      " [ 20  31  20  29]\n",
      " [ 32  49  32  47]\n",
      " [ 48  73  48  71]\n",
      " [ 60  91  60  89]\n",
      " [ 72 109  72 107]\n",
      " [ 88 133  88 131]\n",
      " [100 151 100 149]\n",
      " [112 169 112 167]]\n",
      "--------------------------------------------------\n"
     ]
    }
   ],
   "source": [
    "import numpy as np\n",
    "\n",
    "data = np.array([[1,2,3]])\n",
    "w = np.array([4,5,6])\n",
    "\n",
    "print(np.dot(data, w))\n",
    "\n",
    "# 손실 함수(loss function)\n",
    "# 예측값 실제값 차이를 나타내는 것\n",
    "\n",
    "# 예측값을 계산하는 함수(활성화 함수 - activation function)\n",
    "# 손실이 작게 나오는 웨이트 값 조정 (경사하강)\n",
    "\n",
    "\n",
    "data = np.array([\n",
    "  [1, 2, 3],\n",
    "  [4, 5, 6],\n",
    "  [7, 8, 9],\n",
    "  [11, 12, 13],\n",
    "  [14, 15, 16],\n",
    "  [17, 18, 19],\n",
    "  [21, 22, 23],\n",
    "  [24, 25, 26],\n",
    "  [27, 28, 29]\n",
    "])\n",
    "\n",
    "w = np.array([\n",
    "  [1, 2, 1, 3],\n",
    "  [2, 1, 2, 1],\n",
    "  [1, 3, 1, 2],\n",
    "])\n",
    "\n",
    "print(np.dot(data, w))\n",
    "print(\"-\" * 50)\n",
    "# print(np.sum(np.dot(data, w)))\n",
    "\n",
    "# 과적합(Overfitting) 피하기 위해서 일부러 예측이 틀리도록 데이터를 제공\n",
    "# 차트 그리기 (x축 : 횟수, y축 : 손실량(율))\n",
    "# google api, naver api\n",
    "\n"
   ]
  }
 ],
 "metadata": {
  "kernelspec": {
   "display_name": "Python 3",
   "language": "python",
   "name": "python3"
  },
  "language_info": {
   "codemirror_mode": {
    "name": "ipython",
    "version": 3
   },
   "file_extension": ".py",
   "mimetype": "text/x-python",
   "name": "python",
   "nbconvert_exporter": "python",
   "pygments_lexer": "ipython3",
   "version": "3.10.2"
  },
  "orig_nbformat": 4
 },
 "nbformat": 4,
 "nbformat_minor": 2
}
