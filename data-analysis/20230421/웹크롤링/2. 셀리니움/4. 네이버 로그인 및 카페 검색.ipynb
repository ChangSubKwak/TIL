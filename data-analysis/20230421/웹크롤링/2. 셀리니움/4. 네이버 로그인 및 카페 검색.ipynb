{
 "cells": [
  {
   "cell_type": "code",
   "execution_count": 3,
   "id": "17200be5",
   "metadata": {},
   "outputs": [],
   "source": [
    "#!pip install pyperclip"
   ]
  },
  {
   "cell_type": "code",
   "execution_count": 4,
   "id": "46731bcc",
   "metadata": {},
   "outputs": [],
   "source": [
    "from selenium import webdriver\n",
    "from selenium.webdriver.common.keys import Keys\n",
    "import pyperclip\n",
    "import time"
   ]
  },
  {
   "cell_type": "code",
   "execution_count": 9,
   "id": "361c1594",
   "metadata": {},
   "outputs": [],
   "source": [
    "url='https://www.naver.com/'\n",
    "driver = webdriver.Chrome('c:/pydata/chromedriver.exe')\n",
    "time.sleep(2)\n",
    "driver.get(url)\n",
    "\n",
    "keys=Keys()\n",
    "\n",
    "## 로그인 버튼 클릭\n",
    "driver.find_element_by_class_name(\"link_login\").click()\n",
    "time.sleep(2)\n",
    "\n",
    "tag_id=driver.find_element_by_id(\"id\")     # id 입력란을 객체 정의\n",
    "tag_pw=driver.find_element_by_name(\"pw\")   # pw 입력란을 객체 정의\n",
    "\n",
    "#### ID 입력하기\n",
    "tag_id.clear()    ## ID 입력란 지우기\n",
    "tag_id.click()\n",
    "pyperclip.copy(\"개인ID\")   # ID 클립보드에 복사\n",
    "tag_id.send_keys(keys.CONTROL, \"v\")  # 클리보드에 있는 내용 붙여넣기(Ctrl+v)\n",
    "time.sleep(1)\n",
    "\n",
    "#### pw 입력하기\n",
    "tag_pw.clear()    ## pw 입력란 지우기\n",
    "tag_pw.click()\n",
    "pyperclip.copy(\"개인패스워드\")   # pw 클립보드에 복사\n",
    "tag_pw.send_keys(keys.CONTROL, \"v\")  # 클리보드에 있는 내용 붙여넣기(Ctrl+v)\n",
    "time.sleep(1)\n",
    "\n",
    "driver.find_element_by_class_name(\"btn_login\").click()"
   ]
  },
  {
   "cell_type": "code",
   "execution_count": 14,
   "id": "a6f2a79c",
   "metadata": {},
   "outputs": [],
   "source": [
    "## 카페 메뉴 클릭\n",
    "driver.find_element_by_xpath('//*[@id=\"NM_FAVORITE\"]/div[1]/ul[1]/li[2]/a').click()\n",
    "time.sleep(2)\n",
    "\n",
    "q_input=driver.find_element_by_xpath('//*[@id=\"header\"]/div[1]/div/div[1]/form/fieldset/div/div/div[2]/input')\n",
    "q_input.clear()\n",
    "q_input.click()\n",
    "q_input.send_keys(\"게임\")\n",
    "time.sleep(2)\n",
    "q_input.send_keys(keys.ENTER)\n",
    "time.sleep(2)\n",
    "\n",
    "driver.find_element_by_xpath('//*[@id=\"app\"]/div/div[2]/div/div[1]/div[2]/a[3]').click()"
   ]
  }
 ],
 "metadata": {
  "kernelspec": {
   "display_name": "Python 3",
   "language": "python",
   "name": "python3"
  },
  "language_info": {
   "codemirror_mode": {
    "name": "ipython",
    "version": 3
   },
   "file_extension": ".py",
   "mimetype": "text/x-python",
   "name": "python",
   "nbconvert_exporter": "python",
   "pygments_lexer": "ipython3",
   "version": "3.9.6"
  }
 },
 "nbformat": 4,
 "nbformat_minor": 5
}
