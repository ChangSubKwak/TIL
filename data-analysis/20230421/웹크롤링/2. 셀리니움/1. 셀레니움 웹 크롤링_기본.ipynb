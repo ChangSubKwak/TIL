{
 "cells": [
  {
   "cell_type": "markdown",
   "id": "103eebd9",
   "metadata": {},
   "source": [
    "### 셀레니움(Selenium)이란?\n",
    "- Selenium은 주로 웹앱을 테스트하는데 이용하는 프레임워크다.\n",
    "- webdriver라는 API를 통해 운영체제에 설치된 Chrome등의 브라우저를 제어\n",
    "- !pip install selenium\n",
    "- 본인이 사용하고 있는 크롬 브라우저 버젼 확인 : 크롬브라우저 주조입력란에 - chrome://version' 입력\n",
    "- ChromeWebDriver.exe 다운로드: https://sites.google.com/a/chromium.org/chromedriver/downloads"
   ]
  },
  {
   "cell_type": "markdown",
   "id": "73375616",
   "metadata": {},
   "source": [
    "#### 다른 브라우저\n",
    "- 파이어폭스: https://github.com/mozilla/geckodriver/releases\n",
    "- Edge : https://developer.microsoft.com/en-us/microsoft-edge/tools/webdriver/"
   ]
  },
  {
   "cell_type": "code",
   "execution_count": 2,
   "id": "3d25f090",
   "metadata": {
    "scrolled": true
   },
   "outputs": [],
   "source": [
    "# selenium 설치\n",
    "!pip install selenium"
   ]
  },
  {
   "cell_type": "code",
   "execution_count": 3,
   "id": "77d81f71",
   "metadata": {},
   "outputs": [],
   "source": [
    "# selenium 연결하기\n",
    "from selenium import webdriver"
   ]
  },
  {
   "cell_type": "code",
   "execution_count": 4,
   "id": "cf3425d7",
   "metadata": {},
   "outputs": [
    {
     "name": "stderr",
     "output_type": "stream",
     "text": [
      "C:\\Users\\User\\AppData\\Local\\Temp/ipykernel_936/891024860.py:2: DeprecationWarning: executable_path has been deprecated, please pass in a Service object\n",
      "  driver=webdriver.Chrome(\"./chromedriver.exe\")\n"
     ]
    }
   ],
   "source": [
    "# 구글 드라이버(구글 브라우져) 실행하기\n",
    "driver=webdriver.Chrome(\"./chromedriver.exe\")"
   ]
  },
  {
   "cell_type": "code",
   "execution_count": 9,
   "id": "82823d3a",
   "metadata": {},
   "outputs": [],
   "source": [
    "# 실행시킨 드라이브(브라우져)에 원하는 사이트 연결하기\n",
    "driver.get('http://google.co.kr/')"
   ]
  },
  {
   "cell_type": "markdown",
   "id": "b3d985c9",
   "metadata": {},
   "source": [
    "### 접속 후 입력란에 원하는 검색어 입력하기\n",
    "1. 검색어 입력 부분에 커러 올리기\n",
    "2. 검색 입력란에 기존 입력 데이터 초기화하기\n",
    "3. 원하는 검색어 입력하기"
   ]
  },
  {
   "cell_type": "code",
   "execution_count": 10,
   "id": "63d30771",
   "metadata": {},
   "outputs": [
    {
     "name": "stderr",
     "output_type": "stream",
     "text": [
      "C:\\Users\\User\\AppData\\Local\\Temp/ipykernel_936/3401416428.py:2: DeprecationWarning: find_element_by_* commands are deprecated. Please use find_element() instead\n",
      "  elem=driver.find_element_by_name('q')\n"
     ]
    }
   ],
   "source": [
    "# 검색어 입력란에 커서 올리기\n",
    "elem=driver.find_element_by_name('q')"
   ]
  },
  {
   "cell_type": "code",
   "execution_count": 11,
   "id": "f33545d6",
   "metadata": {},
   "outputs": [],
   "source": [
    "# 검색란 초기화\n",
    "elem.clear()"
   ]
  },
  {
   "cell_type": "code",
   "execution_count": 12,
   "id": "d405d44e",
   "metadata": {},
   "outputs": [],
   "source": [
    "# 검색어 입력\n",
    "elem.send_keys('저녁메뉴 추천')"
   ]
  },
  {
   "cell_type": "code",
   "execution_count": null,
   "id": "28654bb4",
   "metadata": {},
   "outputs": [],
   "source": [
    "# 크롬 드라이브 종료하기\n",
    "driver.close()"
   ]
  },
  {
   "cell_type": "markdown",
   "id": "b8cea126",
   "metadata": {},
   "source": [
    "#### Selenium은 driver객체를 통해 여러가지 메소드를 제공\n",
    "- 참조: https://www.cikorea.net/bbs/view/lecture?idx=7056\n",
    "- URL에 접근하는 API\n",
    "- driver.get(‘url 정보’)"
   ]
  },
  {
   "cell_type": "markdown",
   "id": "55c6b5a9",
   "metadata": {},
   "source": [
    "- 페이지의 단일 element에 접근하는 API\n",
    " * find_element_by_name('HTML_name')\n",
    " * find_element_by_id('HTML_id')\n",
    " * find_element_by_xpath('/html/body/some/xpath')\n",
    " * find_element_by_css_selector('#css > div.selector')\n",
    " * find_element_by_class_name('some_class_name')\n",
    " * find_element_by_tag_name('h1')\n",
    "-\n",
    "- 페이지의 여러 element에 접근하는 API\n",
    " * element 를 elements 로 바꾸기만 하면 됨\n",
    " * find_elements_by_css_selector(‘#css > div.selector’)\n",
    " * find_elements_by_class_name(‘some_class_name’)\n",
    " * find_elements_by_tag_name(‘h1’)\n",
    " -\n",
    " \n",
    "- HTML을 브라우저에서 파싱해주기 때문에 굳이 Python와 BeautifulSoup을 사용하지 않아도 됨"
   ]
  },
  {
   "cell_type": "markdown",
   "id": "e00c32ea",
   "metadata": {},
   "source": [
    "### 네이버 자동 로그인\n",
    "1. 셀레니움을 이용해 네이버 로그인 사이트 이동\n",
    "2. ID/PW 자동 입력 후 로그인 진행\n",
    "3. 로봇으로 인정하고 영수증 선택 화면 나타남 : 로그인 자동 불가 "
   ]
  },
  {
   "cell_type": "code",
   "execution_count": 36,
   "id": "6d694915",
   "metadata": {},
   "outputs": [
    {
     "name": "stderr",
     "output_type": "stream",
     "text": [
      "C:\\Users\\User\\AppData\\Local\\Temp/ipykernel_936/679706453.py:5: DeprecationWarning: executable_path has been deprecated, please pass in a Service object\n",
      "  driver=webdriver.Chrome(\"./chromedriver.exe\")\n",
      "C:\\Users\\User\\AppData\\Local\\Temp/ipykernel_936/679706453.py:12: DeprecationWarning: find_element_by_* commands are deprecated. Please use find_element() instead\n",
      "  driver.find_element_by_class_name('input_text').click()\n",
      "C:\\Users\\User\\AppData\\Local\\Temp/ipykernel_936/679706453.py:14: DeprecationWarning: find_element_by_* commands are deprecated. Please use find_element() instead\n",
      "  driver.find_element_by_class_name('input_text').clear()\n",
      "C:\\Users\\User\\AppData\\Local\\Temp/ipykernel_936/679706453.py:15: DeprecationWarning: find_element_by_* commands are deprecated. Please use find_element() instead\n",
      "  driver.find_element_by_class_name('input_text').send_keys('개인ID')\n",
      "C:\\Users\\User\\AppData\\Local\\Temp/ipykernel_936/679706453.py:19: DeprecationWarning: find_element_by_* commands are deprecated. Please use find_element() instead\n",
      "  driver.find_element_by_css_selector('#pw').click()\n",
      "C:\\Users\\User\\AppData\\Local\\Temp/ipykernel_936/679706453.py:20: DeprecationWarning: find_element_by_* commands are deprecated. Please use find_element() instead\n",
      "  driver.find_element_by_css_selector('#pw').clear()\n",
      "C:\\Users\\User\\AppData\\Local\\Temp/ipykernel_936/679706453.py:21: DeprecationWarning: find_element_by_* commands are deprecated. Please use find_element() instead\n",
      "  driver.find_element_by_css_selector('#pw').send_keys('개인 패스워드')\n",
      "C:\\Users\\User\\AppData\\Local\\Temp/ipykernel_936/679706453.py:23: DeprecationWarning: find_element_by_* commands are deprecated. Please use find_element() instead\n",
      "  driver.find_element_by_xpath('//*[@id=\"log.login\"]').click()\n"
     ]
    }
   ],
   "source": [
    "# selenium 연결 및 크롬 드라이버 실행\n",
    "from selenium import webdriver\n",
    "import time\n",
    "\n",
    "driver=webdriver.Chrome(\"./chromedriver.exe\")\n",
    "\n",
    "# 로그인 화면 이동\n",
    "driver.get('https://nid.naver.com/nidlogin.login')\n",
    "time.sleep(2)\n",
    "\n",
    "# ID 입력란 클릭 ID 입력\n",
    "driver.find_element_by_class_name('input_text').click()\n",
    "time.sleep(1)\n",
    "driver.find_element_by_class_name('input_text').clear()\n",
    "driver.find_element_by_class_name('input_text').send_keys('개인ID')\n",
    "time.sleep(2)\n",
    "\n",
    "# 패스워드 선택 및 입력\n",
    "driver.find_element_by_css_selector('#pw').click()\n",
    "driver.find_element_by_css_selector('#pw').clear()\n",
    "driver.find_element_by_css_selector('#pw').send_keys('개인 패스워드')\n",
    "\n",
    "driver.find_element_by_xpath('//*[@id=\"log.login\"]').click()"
   ]
  },
  {
   "cell_type": "code",
   "execution_count": 37,
   "id": "d197c993",
   "metadata": {},
   "outputs": [],
   "source": [
    "driver.close()"
   ]
  },
  {
   "cell_type": "markdown",
   "id": "3fe991f7",
   "metadata": {},
   "source": [
    "### 네이버 자동 로그인\n",
    "- ID/PW를 복사/붙이기 하는 방법으로 로그인(자동 입력)"
   ]
  },
  {
   "cell_type": "code",
   "execution_count": 51,
   "id": "b4b34828",
   "metadata": {},
   "outputs": [],
   "source": [
    "#!pip install pyperclip"
   ]
  },
  {
   "cell_type": "code",
   "execution_count": 52,
   "id": "44eb2d74",
   "metadata": {},
   "outputs": [],
   "source": [
    "from selenium import webdriver\n",
    "from selenium.webdriver.common.keys import Keys  # 사용자가 키보드를 입력하는 것처럼 처리\n",
    "import time\n",
    "import pyperclip"
   ]
  },
  {
   "cell_type": "code",
   "execution_count": 56,
   "id": "9f0ffc23",
   "metadata": {},
   "outputs": [
    {
     "name": "stderr",
     "output_type": "stream",
     "text": [
      "C:\\Users\\User\\AppData\\Local\\Temp/ipykernel_936/1693540093.py:1: DeprecationWarning: executable_path has been deprecated, please pass in a Service object\n",
      "  driver=webdriver.Chrome(\"./chromedriver.exe\")\n",
      "C:\\Users\\User\\AppData\\Local\\Temp/ipykernel_936/1693540093.py:7: DeprecationWarning: find_element_by_* commands are deprecated. Please use find_element() instead\n",
      "  driver.find_element_by_class_name('link_login').click()\n",
      "C:\\Users\\User\\AppData\\Local\\Temp/ipykernel_936/1693540093.py:10: DeprecationWarning: find_element_by_* commands are deprecated. Please use find_element() instead\n",
      "  tag_id=driver.find_element_by_name('id')   # ID 입력 변수 정의\n",
      "C:\\Users\\User\\AppData\\Local\\Temp/ipykernel_936/1693540093.py:11: DeprecationWarning: find_element_by_* commands are deprecated. Please use find_element() instead\n",
      "  tag_pw=driver.find_element_by_id('pw')     # pw 입력 변수 정의\n",
      "C:\\Users\\User\\AppData\\Local\\Temp/ipykernel_936/1693540093.py:33: DeprecationWarning: find_element_by_* commands are deprecated. Please use find_element() instead\n",
      "  driver.find_element_by_xpath('//*[@id=\"log.login\"]').click()\n"
     ]
    }
   ],
   "source": [
    "driver=webdriver.Chrome(\"./chromedriver.exe\")\n",
    "time.sleep(2)\n",
    "driver.get('http://naver.com')\n",
    "\n",
    "# 네이버 메인에서 로그인 화면 이동\n",
    "keys=Keys()\n",
    "driver.find_element_by_class_name('link_login').click()\n",
    "time.sleep(1)\n",
    "\n",
    "tag_id=driver.find_element_by_name('id')   # ID 입력 변수 정의\n",
    "tag_pw=driver.find_element_by_id('pw')     # pw 입력 변수 정의\n",
    "\n",
    "# ID 초기화 및 입력\n",
    "tag_id.clear()\n",
    "time.sleep(1)\n",
    "tag_id.click()\n",
    "\n",
    "pyperclip.copy('개인ID')\n",
    "tag_id.send_keys(keys.CONTROL, 'v')\n",
    "time.sleep(1)\n",
    "\n",
    "# PW 초기화 및 입력\n",
    "tag_pw.clear()\n",
    "time.sleep(1)\n",
    "tag_pw.click()\n",
    "\n",
    "pyperclip.copy('개인PW')\n",
    "tag_pw.send_keys(keys.CONTROL, 'v')\n",
    "time.sleep(2)\n",
    "\n",
    "\n",
    "# 로그인 버튼 클릭\n",
    "driver.find_element_by_xpath('//*[@id=\"log.login\"]').click()"
   ]
  },
  {
   "cell_type": "code",
   "execution_count": null,
   "id": "0a0e43b4",
   "metadata": {},
   "outputs": [],
   "source": []
  }
 ],
 "metadata": {
  "kernelspec": {
   "display_name": "Python 3 (ipykernel)",
   "language": "python",
   "name": "python3"
  },
  "language_info": {
   "codemirror_mode": {
    "name": "ipython",
    "version": 3
   },
   "file_extension": ".py",
   "mimetype": "text/x-python",
   "name": "python",
   "nbconvert_exporter": "python",
   "pygments_lexer": "ipython3",
   "version": "3.8.5"
  }
 },
 "nbformat": 4,
 "nbformat_minor": 5
}
