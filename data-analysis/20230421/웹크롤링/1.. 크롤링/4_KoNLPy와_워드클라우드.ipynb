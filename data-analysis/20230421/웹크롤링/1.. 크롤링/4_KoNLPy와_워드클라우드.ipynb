{
  "nbformat": 4,
  "nbformat_minor": 0,
  "metadata": {
    "colab": {
      "name": "5. KoNLPy와 워드클라우드.ipynb",
      "private_outputs": true,
      "provenance": [],
      "collapsed_sections": []
    },
    "kernelspec": {
      "name": "python3",
      "display_name": "Python 3"
    },
    "language_info": {
      "name": "python"
    }
  },
  "cells": [
    {
      "cell_type": "markdown",
      "metadata": {
        "id": "rmR28dgkEYaC"
      },
      "source": [
        "1. 시각화 한글 글꼴 지원\n",
        "- 한글 글꼴을 설치후 런타입 => 런타임 다시 시작 "
      ]
    },
    {
      "cell_type": "code",
      "metadata": {
        "id": "9QqsVOn2EX86"
      },
      "source": [
        "#글꼴 설치\n",
        "!sudo apt-get install -y fonts-nanum\n",
        "!sudo fc-cache -fv\n",
        "!rm ~/.cache/matplotlib -rf"
      ],
      "execution_count": null,
      "outputs": []
    },
    {
      "cell_type": "markdown",
      "metadata": {
        "id": "QedykP-XEObr"
      },
      "source": [
        "2. 드라이브 연결"
      ]
    },
    {
      "cell_type": "code",
      "metadata": {
        "id": "2v_w7LI4D6jD"
      },
      "source": [
        "from google.colab import drive\n",
        "drive.mount('/content/drive')"
      ],
      "execution_count": null,
      "outputs": []
    },
    {
      "cell_type": "code",
      "metadata": {
        "id": "GlkQiQRxDrE9"
      },
      "source": [
        "%cd /content/drive/MyDrive/py_pro"
      ],
      "execution_count": null,
      "outputs": []
    },
    {
      "cell_type": "code",
      "metadata": {
        "id": "dya3WVRkEG5r"
      },
      "source": [
        "!pwd"
      ],
      "execution_count": null,
      "outputs": []
    },
    {
      "cell_type": "code",
      "metadata": {
        "id": "EwRm92VxEIQZ"
      },
      "source": [
        "import matplotlib.font_manager as fm\n",
        "from matplotlib import rc\n",
        "rc('font', family='NanumBarunGothic')"
      ],
      "execution_count": null,
      "outputs": []
    },
    {
      "cell_type": "markdown",
      "metadata": {
        "id": "drtGQkxFHyVa"
      },
      "source": [
        "3. 형태소 분석 진행\n",
        "- 참조: https://wikidocs.net/22488\n",
        "- nltk : 영문 자연어 처리를 위한 형태소 분석기 패키지\n",
        "- konlpy : 한국어 자연어 처리를 위한 형태소 분석기 패키지\n",
        " * https://konlpy.org/ko/latest/"
      ]
    },
    {
      "cell_type": "code",
      "metadata": {
        "id": "0Bx1kzsqIl4B"
      },
      "source": [
        "# konlpy 설치하기\n",
        "!pip install konlpy\n",
        "!pip install wordcloud"
      ],
      "execution_count": null,
      "outputs": []
    },
    {
      "cell_type": "code",
      "metadata": {
        "id": "RH5I8RnJHsiu"
      },
      "source": [
        "# 자연어 형태소 분석 모듈 연결\n",
        "import nltk\n",
        "from konlpy.tag import Okt\n",
        "from konlpy.tag import Kkma\n",
        "from konlpy.tag import Komoran"
      ],
      "execution_count": null,
      "outputs": []
    },
    {
      "cell_type": "code",
      "metadata": {
        "id": "cydehFT1Iap3"
      },
      "source": [
        "# 형태소 나누기 연습\n",
        "txt='아버지가방에들어가신다.'\n",
        "\n",
        "okt=Okt()\n",
        "kkma=Kkma()\n",
        "komoran=Komoran()\n",
        "\n",
        "okt_ko=okt.pos(txt)\n",
        "print(okt_ko)\n",
        "\n",
        "kkma_ko=kkma.pos(txt)\n",
        "print(kkma_ko)\n",
        "\n",
        "komoran_ko=komoran.pos(txt)\n",
        "print(komoran_ko)"
      ],
      "execution_count": null,
      "outputs": []
    },
    {
      "cell_type": "markdown",
      "metadata": {
        "id": "smMEEu11MHVI"
      },
      "source": [
        "4. 중앙일보 코로나 뉴스 데이터를 이용한 형태소 분석\n",
        "- 데이터 읽어오기"
      ]
    },
    {
      "cell_type": "code",
      "metadata": {
        "id": "VJefZeMCMLxm"
      },
      "source": [
        "import pandas as pd\n",
        "\n",
        "df1=pd.read_csv('./data/중앙일보_코로나.csv', encoding='cp949')   # 2차원 구조의 데이터 읽어오기\n",
        "df1.head(3)    # 상위 3개만 출력"
      ],
      "execution_count": null,
      "outputs": []
    },
    {
      "cell_type": "code",
      "metadata": {
        "id": "9kOcO_MAMq92"
      },
      "source": [
        "# df1의 데이터 정보 확인\n",
        "df1.info()"
      ],
      "execution_count": null,
      "outputs": []
    },
    {
      "cell_type": "code",
      "metadata": {
        "id": "9L42jk14NWR1"
      },
      "source": [
        "# pandas 데이터 행단위로 출력하기\n",
        "print(df1.loc[0, '내용'])   # index 값을 이용한 출력\n",
        "print(df1.iloc[0, 2])       # 위치 값을 이용한 출력"
      ],
      "execution_count": null,
      "outputs": []
    },
    {
      "cell_type": "markdown",
      "metadata": {
        "id": "ndy2VnosOtwn"
      },
      "source": [
        "- 내용 항목 모두 합치기"
      ]
    },
    {
      "cell_type": "code",
      "metadata": {
        "id": "8m1gKMq4Nrx9"
      },
      "source": [
        "txt_all=''  # 전체 데이터 저장 변수\n",
        "\n",
        "for i in df1.index:\n",
        "    txt_all += df1.loc[i, '내용'] + \" \"\n",
        "\n",
        "txt_all"
      ],
      "execution_count": null,
      "outputs": []
    },
    {
      "cell_type": "markdown",
      "metadata": {
        "id": "XNstROr2TPEt"
      },
      "source": [
        "- 전체 문자을 기준으로 명사만 추출하기"
      ]
    },
    {
      "cell_type": "code",
      "metadata": {
        "id": "LPq_pdQsR9iE"
      },
      "source": [
        "import nltk\n",
        "from konlpy.tag import Okt\n",
        "import matplotlib.pyplot as plt\n",
        "\n",
        "okt=Okt()\n",
        "nouns_ko=okt.nouns(txt_all)\n",
        "nouns_ko"
      ],
      "execution_count": null,
      "outputs": []
    },
    {
      "cell_type": "markdown",
      "metadata": {
        "id": "7XoLtMEJTwMU"
      },
      "source": [
        "- 중앙일보 코로나 검색 내용 분석"
      ]
    },
    {
      "cell_type": "code",
      "metadata": {
        "id": "6SK1if3ETbo4"
      },
      "source": [
        "cov_ko=nltk.Text(nouns_ko, name='test')\n",
        "\n",
        "plt.figure(figsize=(12, 6))\n",
        "cov_ko.plot(50)\n",
        "plt.show()"
      ],
      "execution_count": null,
      "outputs": []
    },
    {
      "cell_type": "markdown",
      "metadata": {
        "id": "Geh3PFm2VNCb"
      },
      "source": [
        "- 각 단어별 빈도수 확인하기"
      ]
    },
    {
      "cell_type": "code",
      "metadata": {
        "id": "VP-i9tW5UVws"
      },
      "source": [
        "from collections import Counter   # jdk에서 제공하는 라이브러리\n",
        "count_ko=Counter(nouns_ko)        # 동일 문자수를 계산하는 함수\n",
        "count_ko"
      ],
      "execution_count": null,
      "outputs": []
    },
    {
      "cell_type": "code",
      "metadata": {
        "id": "KQI1BuJQUl2a"
      },
      "source": [
        "# 단어 빈도수를 튜플구조로 변경하가\n",
        "rank_txt=count_ko.most_common()\n",
        "rank_txt"
      ],
      "execution_count": null,
      "outputs": []
    },
    {
      "cell_type": "code",
      "metadata": {
        "id": "1nXG6kzYXcwL"
      },
      "source": [
        "rank_txt[0]"
      ],
      "execution_count": null,
      "outputs": []
    },
    {
      "cell_type": "code",
      "metadata": {
        "id": "1DmUSqbGWe7w"
      },
      "source": [
        "# 단어 빈도수가 10개 미만인 데이터 모두 삭제\n",
        "rank_txt_rev=[]\n",
        "for (keyword, num) in rank_txt:\n",
        "    if num >= 10 :\n",
        "        rank_txt_rev.append((keyword, num))\n",
        "rank_txt_rev"
      ],
      "execution_count": null,
      "outputs": []
    },
    {
      "cell_type": "markdown",
      "metadata": {
        "id": "MtjwFtoGZMTj"
      },
      "source": [
        "5. 워드클라우드 제작하기\n",
        "- !pip install WordCloud 설치 필요"
      ]
    },
    {
      "cell_type": "code",
      "metadata": {
        "id": "5lMKUg5yXH1Z"
      },
      "source": [
        "from wordcloud import WordCloud\n",
        "import matplotlib.pyplot as plt\n",
        "\n",
        "# 글꼴 패치 설정\n",
        "path='/usr/share/fonts/truetype/nanum/NanumBarunGothicBold.ttf'\n",
        "\n",
        "# rank_txt_rev을 딕셔너리 구조의 데이터로 변경\n",
        "data=dict(rank_txt_rev)\n",
        "\n",
        "# 워드클라우드 생성하기\n",
        "wc1=WordCloud(font_path=path, relative_scaling=0.2, background_color='white')\n",
        "wc2=wc1.generate_from_frequencies(data)\n",
        "\n",
        "plt.figure(figsize=(10, 10))\n",
        "plt.imshow(wc2)     # 워드클라우드 이미지 출력\n",
        "plt.axis('off')     # 눈금선 제거\n",
        "plt.show()          # 화면에 표시"
      ],
      "execution_count": null,
      "outputs": []
    },
    {
      "cell_type": "code",
      "metadata": {
        "id": "lgygwUGeaafw"
      },
      "source": [
        ""
      ],
      "execution_count": null,
      "outputs": []
    }
  ]
}