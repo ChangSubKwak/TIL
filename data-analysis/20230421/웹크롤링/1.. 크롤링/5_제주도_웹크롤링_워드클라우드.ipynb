{
  "nbformat": 4,
  "nbformat_minor": 0,
  "metadata": {
    "colab": {
      "name": "6.제주도 웹크롤링_워드클라우드.ipynb",
      "private_outputs": true,
      "provenance": [],
      "collapsed_sections": []
    },
    "kernelspec": {
      "name": "python3",
      "display_name": "Python 3"
    },
    "language_info": {
      "name": "python"
    }
  },
  "cells": [
    {
      "cell_type": "markdown",
      "metadata": {
        "id": "TrvbJzdfkuqM"
      },
      "source": [
        "### [미션]\n",
        "1. 제주도 지식인 검색을 통해 검색 결과에 대한 url 100개 취득\n",
        "2. 100개의 url에서 질문/답변 각각 크롤링 진행\n",
        "3. 크롤링 결과는 질문과 답변 각각 저장\n",
        "4. 질문에 대한 워드클라우드 제작\n",
        "5. 답변에 대한 워드클라우드 제작"
      ]
    },
    {
      "cell_type": "code",
      "metadata": {
        "id": "XZ0gHpgguVjQ"
      },
      "source": [
        "#글꼴 설치\n",
        "!sudo apt-get install -y fonts-nanum\n",
        "!sudo fc-cache -fv\n",
        "!rm ~/.cache/matplotlib -rf\n",
        "\n",
        "# 글꼴 설치후에는 반드시 런타임 재실행"
      ],
      "execution_count": null,
      "outputs": []
    },
    {
      "cell_type": "code",
      "metadata": {
        "id": "rYcgKf44vGfY"
      },
      "source": [
        "from google.colab import drive\n",
        "drive.mount('/content/drive')"
      ],
      "execution_count": null,
      "outputs": []
    },
    {
      "cell_type": "code",
      "source": [
        "%cd /content/drive/MyDrive/py_pro"
      ],
      "metadata": {
        "id": "y8Q9o78nXfdb"
      },
      "execution_count": null,
      "outputs": []
    },
    {
      "cell_type": "markdown",
      "metadata": {
        "id": "_s2q07G0mRAt"
      },
      "source": [
        "1. 제주도 검색 결과에 대한 url 추출하기"
      ]
    },
    {
      "cell_type": "code",
      "metadata": {
        "id": "i2cvJ5Q5m-DL"
      },
      "source": [
        "from bs4 import BeautifulSoup as bs\n",
        "import requests\n",
        "import sys"
      ],
      "execution_count": null,
      "outputs": []
    },
    {
      "cell_type": "code",
      "metadata": {
        "id": "Nk5hERPkkjL1"
      },
      "source": [
        "# 검색어와 페이지 번호를 이용해 원하는 웹 사이트 정보 가져와 파싱후 리턴하는 함수\n",
        "def url_res(sch_txt, page=1):\n",
        "    url='https://kin.naver.com/search/list.naver?query='+ sch_txt + '&page=' + str(page)\n",
        "\n",
        "    html=requests.get(url)\n",
        "    if html.status_code != 200:\n",
        "        sys.exit('페이지 정보를 가져오지 못했습니다.')\n",
        "    \n",
        "    soup = bs(html.content, \"html.parser\")    # 데이터 파싱\n",
        "\n",
        "    return soup"
      ],
      "execution_count": null,
      "outputs": []
    },
    {
      "cell_type": "code",
      "metadata": {
        "id": "r1AzVOhxoF8c"
      },
      "source": [
        "# 검색한 결과를 페이지별로 이동하면서 100개의 URL 추출\n",
        "\n",
        "sch_txt=input('검색어 입력: ')\n",
        "link_lst=[]   # 링크 URL 저장 변수 생성\n",
        "\n",
        "for i in range(1, 11): \n",
        "    soup=url_res(sch_txt, i)    # url_res() 함수에서 파싱 결과 받아오기\n",
        "    \n",
        "    uls_soup=soup.find('ul', class_=\"basic1\")  # 본문 내용 전체 추출\n",
        "    dts_soup=uls_soup.find_all('dt')           # 각 항목별 제목 추출\n",
        "\n",
        "    for dt in dts_soup:\n",
        "        link=dt.find(\"a\")['href']\n",
        "        link_lst.append(link)\n",
        "\n",
        "print(len(link_lst))"
      ],
      "execution_count": null,
      "outputs": []
    },
    {
      "cell_type": "code",
      "metadata": {
        "id": "ytYEO_vvuBO5"
      },
      "source": [
        "# 지식인 질문 내용 가져오기\n",
        "import re\n",
        "\n",
        "quest_lst=[]     # 질문에 대한 저장 공간\n",
        "answer_lst=[]    # 답변에 대한 저장 공간\n",
        "\n",
        "for url in link_lst:\n",
        "    # 하위 링크에서 정보 받아오기\n",
        "    html=requests.get(url)\n",
        "    if html.status_code != 200:\n",
        "        continue\n",
        "\n",
        "    soup=bs(html.content, 'html.parser')\n",
        "\n",
        "    # 질문 가져오기\n",
        "    try:\n",
        "        quest_val=soup.find('div', class_=\"c-heading__content\").get_text()\n",
        "        quest_val=re.sub('[^ㄱ-ㅣ가-힣a-zA-Z0-9 ]', \"\", quest_val)\n",
        "        quest_lst.append(quest_val)\n",
        "    except:\n",
        "        print('-')\n",
        "\n",
        "    # 답변 가져오기\n",
        "    try:\n",
        "        answer_soup=soup.find_all('div', class_=\"se-module se-module-text\")\n",
        "        for asw in answer_soup:\n",
        "            answer_val=asw.get_text()\n",
        "            answer_val=re.sub('[^ㄱ-ㅣ가-힣a-zA-Z0-9 ]', \"\", answer_val)\n",
        "            answer_lst.append(answer_val)\n",
        "    except:\n",
        "        print('-')\n",
        "\n",
        "\n",
        "#quest_lst\n",
        "#answer_lst"
      ],
      "execution_count": null,
      "outputs": []
    },
    {
      "cell_type": "code",
      "metadata": {
        "id": "3kE4vTii4DYV"
      },
      "source": [
        "!pip install konlpy"
      ],
      "execution_count": null,
      "outputs": []
    },
    {
      "cell_type": "code",
      "metadata": {
        "id": "j9Kxhmz23khN"
      },
      "source": [
        "# 질문에 대한 형태소 분석\n",
        "import nltk\n",
        "from konlpy.tag import Okt\n",
        "import matplotlib.pyplot as plt\n",
        "from matplotlib import rc\n",
        "rc('font', family='NanumBarunGothic')\n",
        "\n",
        "okt=Okt()\n",
        "\n",
        "quest_nouns=[]\n",
        "answer_nouns=[]\n",
        "for txt in quest_lst:\n",
        "    quest_nouns += okt.nouns(txt)\n",
        "\n",
        "for txt in answer_lst:\n",
        "    answer_nouns += okt.nouns(txt)"
      ],
      "execution_count": null,
      "outputs": []
    },
    {
      "cell_type": "code",
      "metadata": {
        "id": "2iji_5da4Bmj"
      },
      "source": [
        "cov_ko=nltk.Text(quest_nouns, name='test')\n",
        "\n",
        "plt.figure(figsize=(12, 6))\n",
        "cov_ko.plot(50)\n",
        "plt.show()"
      ],
      "execution_count": null,
      "outputs": []
    },
    {
      "cell_type": "code",
      "metadata": {
        "id": "sr-v5Q3d4Lij"
      },
      "source": [
        "cov_ko=nltk.Text(answer_nouns, name='test')\n",
        "\n",
        "plt.figure(figsize=(12, 6))\n",
        "cov_ko.plot(50)\n",
        "plt.show()"
      ],
      "execution_count": null,
      "outputs": []
    },
    {
      "cell_type": "code",
      "source": [
        "from collections import Counter   # jdk에서 제공하는 라이브러리\n",
        "\n",
        "# 질문/답변에 대한 단어 빈도수\n",
        "quest_cnt=Counter(quest_nouns)        # 동일 문자수를 계산하는 함수\n",
        "answer_cnt=Counter(answer_nouns)"
      ],
      "metadata": {
        "id": "fz9qOktObB-3"
      },
      "execution_count": null,
      "outputs": []
    },
    {
      "cell_type": "code",
      "source": [
        "# 데이터 구조 변경(튜플형)\n",
        "rank_quest=quest_cnt.most_common()\n",
        "rank_answer=answer_cnt.most_common()"
      ],
      "metadata": {
        "id": "MfrzQ40LbrAI"
      },
      "execution_count": null,
      "outputs": []
    },
    {
      "cell_type": "code",
      "source": [
        "# 단어 빈도수가 10개 미만인 데이터 모두 삭제\n",
        "rank_quest_rev=[]\n",
        "for (keyword, num) in rank_quest:\n",
        "    if num >= 10 :\n",
        "        rank_quest_rev.append((keyword, num))\n",
        "\n",
        "rank_answer_rev=[]\n",
        "for (keyword, num) in rank_answer:\n",
        "    if num >= 10 :\n",
        "        rank_answer_rev.append((keyword, num))"
      ],
      "metadata": {
        "id": "mzcRPR_sbsbn"
      },
      "execution_count": null,
      "outputs": []
    },
    {
      "cell_type": "code",
      "source": [
        "# 워드클라우드 설치\n",
        "!pip install WordCloud"
      ],
      "metadata": {
        "id": "qXocpMUjcpxO"
      },
      "execution_count": null,
      "outputs": []
    },
    {
      "cell_type": "code",
      "source": [
        "# 워드클라우드 생성\n",
        "from wordcloud import WordCloud\n",
        "import matplotlib.pyplot as plt\n",
        "\n",
        "# 글꼴 패치 설정\n",
        "path='/usr/share/fonts/truetype/nanum/NanumBarunGothicBold.ttf'\n",
        "\n",
        "#============== 질문에 대한 워드클라우드 생성 ==========================\n",
        "\n",
        "# rank_quest_rev을 딕셔너리 구조의 데이터로 변경\n",
        "data=dict(rank_quest_rev)\n",
        "\n",
        "# 워드클라우드 생성하기\n",
        "wc1=WordCloud(font_path=path, relative_scaling=0.2, background_color='white')\n",
        "wc2=wc1.generate_from_frequencies(data)\n",
        "\n",
        "plt.figure(figsize=(10, 10))\n",
        "plt.imshow(wc2)     # 워드클라우드 이미지 출력\n",
        "plt.axis('off')     # 눈금선 제거\n",
        "plt.show()          # 화면에 표시\n",
        "print(\"\\n\\n\")\n",
        "#============== 답변에 대한 워드클라우드 생성 ==========================\n",
        "\n",
        "# rank_answer_rev을 딕셔너리 구조의 데이터로 변경\n",
        "data=dict(rank_answer_rev)\n",
        "\n",
        "# 워드클라우드 생성하기\n",
        "wc1=WordCloud(font_path=path, relative_scaling=0.2, background_color='white')\n",
        "wc2=wc1.generate_from_frequencies(data)\n",
        "\n",
        "plt.figure(figsize=(10, 10))\n",
        "plt.imshow(wc2)     # 워드클라우드 이미지 출력\n",
        "plt.axis('off')     # 눈금선 제거\n",
        "plt.show()  "
      ],
      "metadata": {
        "id": "i0foD7I9cyd3"
      },
      "execution_count": null,
      "outputs": []
    },
    {
      "cell_type": "code",
      "source": [
        ""
      ],
      "metadata": {
        "id": "W_1pLTNTdkrG"
      },
      "execution_count": null,
      "outputs": []
    }
  ]
}