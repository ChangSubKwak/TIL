{
 "cells": [
  {
   "cell_type": "code",
   "execution_count": 6,
   "metadata": {},
   "outputs": [
    {
     "name": "stdout",
     "output_type": "stream",
     "text": [
      "[[0 1 0 1 0 1 0 1 1]\n",
      " [0 0 1 0 0 0 0 1 0]\n",
      " [1 0 0 0 1 0 1 0 0]]\n",
      "{'you': 7, 'know': 1, 'want': 5, 'your': 8, 'love': 3, 'like': 2, 'what': 6, 'should': 4, 'do': 0}\n"
     ]
    }
   ],
   "source": [
    "# testText = \"나는 회사에 가지 않고, 데이터 분석 교육을 받기 위해 판교에 왔다.\"\n",
    "\n",
    "# 자연어 처리 - chatGPT 가 가장 Best\n",
    "# 위키독스 - tf-idf\n",
    "\n",
    "from sklearn.feature_extraction.text import CountVectorizer\n",
    "\n",
    "corpus = [\n",
    "  'you know I want your love',\n",
    "  'I like you',\n",
    "  'what should I do ',\n",
    "]\n",
    "\n",
    "vector = CountVectorizer()\n",
    "print(vector.fit_transform(corpus).toarray())\n",
    "print(vector.vocabulary_)\n",
    "\n",
    "# [[0 1 0 1 0 1 0 1 1]\n",
    "#  [0 0 1 0 0 0 0 1 0]\n",
    "#  [1 0 0 0 1 0 1 0 0]]\n",
    "\n",
    "# GPT 를 하면 형태소 분석이 가능한가?\n",
    "# LSTM, RNN\n",
    "# 막으면서 외우기 ?\n",
    "\n",
    "# BERT, GPT\n",
    "\n"
   ]
  }
 ],
 "metadata": {
  "kernelspec": {
   "display_name": "Python 3",
   "language": "python",
   "name": "python3"
  },
  "language_info": {
   "codemirror_mode": {
    "name": "ipython",
    "version": 3
   },
   "file_extension": ".py",
   "mimetype": "text/x-python",
   "name": "python",
   "nbconvert_exporter": "python",
   "pygments_lexer": "ipython3",
   "version": "3.10.2"
  },
  "orig_nbformat": 4
 },
 "nbformat": 4,
 "nbformat_minor": 2
}
