{
 "cells": [
  {
   "cell_type": "code",
   "execution_count": 10,
   "metadata": {},
   "outputs": [
    {
     "name": "stdout",
     "output_type": "stream",
     "text": [
      "variable(401.0)\n",
      "None None\n",
      "variable(401.0)\n",
      "variable(-2.0) variable(400.0)\n"
     ]
    }
   ],
   "source": [
    "# 로젠 브룩 함수 민 dezero 를 이용한 미분 값 구하기\n",
    "\n",
    "import numpy as np\n",
    "from dezero import Variable\n",
    "\n",
    "def rosenbrock(x0, x1):\n",
    "  y = 100 * ( x1 - x0 ** 2 ) ** 2 + ( 1 - x0 ) ** 2\n",
    "  return y\n",
    "\n",
    "x0 = Variable(np.array(0.0))\n",
    "x1 = Variable(np.array(2.0))\n",
    "\n",
    "# x0, x1\n",
    "y = rosenbrock(x0, x1)\n",
    "print(y)\n",
    "print(x0.grad, x1.grad)\n",
    "\n",
    "y.backward()\n",
    "print(y)\n",
    "print(x0.grad, x1.grad)\n"
   ]
  },
  {
   "cell_type": "code",
   "execution_count": 18,
   "metadata": {},
   "outputs": [
    {
     "name": "stdout",
     "output_type": "stream",
     "text": [
      "-400*x0*(-x0**2 + x1) + 2*x0 - 2\n",
      "-2\n",
      "-200*x0**2 + 200*x1\n",
      "200.000000000000\n"
     ]
    }
   ],
   "source": [
    "# 편미분 방법\n",
    "import sympy as sy\n",
    "\n",
    "x0 = sy.symbols('x0')\n",
    "x1 = sy.symbols('x1')\n",
    "f = 100 * ( x1 - x0 ** 2 ) ** 2 + ( 1 - x0 ) ** 2\n",
    "\n",
    "dfdx0 = sy.diff(f, x0)\n",
    "ret0 = dfdx0.subs({x0 : 0.0, x1 : 1.0})\n",
    "\n",
    "print(dfdx0)\n",
    "print(ret0)\n",
    "\n",
    "dfdx1 = sy.diff(f, x1)\n",
    "ret1 = dfdx1.subs({x0 : 0.0, x1 : 1.0})\n",
    "\n",
    "print(dfdx1)\n",
    "print(ret1)\n",
    "\n",
    "# f = sy.symbols('f', cls = sy.Function)\n",
    "# y = 100 * ( x1 - x0 ** 2 ) ** 2 + ( 1 - x0 ) ** 2\n",
    "# y = f(x0, x1)\n",
    "# eq = sy.Eq(100 * ( x1 - x0 ** 2 ) ** 2 + ( 1 - x0 ) ** 2, y)\n",
    "# sy.dsolve(eq, y)\n"
   ]
  }
 ],
 "metadata": {
  "kernelspec": {
   "display_name": "Python 3",
   "language": "python",
   "name": "python3"
  },
  "language_info": {
   "codemirror_mode": {
    "name": "ipython",
    "version": 3
   },
   "file_extension": ".py",
   "mimetype": "text/x-python",
   "name": "python",
   "nbconvert_exporter": "python",
   "pygments_lexer": "ipython3",
   "version": "3.10.2"
  },
  "orig_nbformat": 4
 },
 "nbformat": 4,
 "nbformat_minor": 2
}
