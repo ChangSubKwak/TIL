{
 "cells": [
  {
   "cell_type": "code",
   "execution_count": 53,
   "metadata": {},
   "outputs": [
    {
     "name": "stdout",
     "output_type": "stream",
     "text": [
      "variable(401.0)\n",
      "None None\n",
      "variable(401.0)\n",
      "variable(-2.0) variable(400.0)\n"
     ]
    }
   ],
   "source": [
    "# 로젠 브룩 함수 민 dezero 를 이용한 미분 값 구하기\n",
    "\n",
    "import numpy as np\n",
    "from dezero import Variable\n",
    "\n",
    "def rosenbrock(x0, x1):\n",
    "  y = 100 * ( x1 - x0 ** 2 ) ** 2 + ( 1 - x0 ) ** 2\n",
    "  return y\n",
    "\n",
    "x0 = Variable(np.array(0.0))\n",
    "x1 = Variable(np.array(2.0))\n",
    "\n",
    "# x0, x1\n",
    "y = rosenbrock(x0, x1)\n",
    "print(y)\n",
    "print(x0.grad, x1.grad)\n",
    "\n",
    "y.backward()\n",
    "print(y)\n",
    "print(x0.grad, x1.grad)\n"
   ]
  },
  {
   "cell_type": "code",
   "execution_count": null,
   "metadata": {},
   "outputs": [],
   "source": [
    "import numpy as np\n",
    "from dezero import Variable\n",
    "\n",
    "def rosenbrock(x0, x1):\n",
    "  # y = 100 * ( x1 - x0 ** 2 ) ** 2 + ( 1 - x0 ) ** 2\n",
    "  y = 100 * (x1 - x0 * x0) * (x1 - x0 * x0) + (1 - x0) * (1 - x0)\n",
    "  return y\n",
    "\n",
    "x0 = Variable(np.array(0.0)) \n",
    "x1 = Variable(np.array(2.0)) \n",
    "lr = 0.001     #학습률 \n",
    "iters = 1000   #반복 수 \n",
    "\n",
    "for i in range(iters): \n",
    "  print(x0, x1)\n",
    "  y = rosenbrock(x0, x1) \n",
    "  x0.cleargrad() \n",
    "  x1.cleargrad() \n",
    "  y.backward()\n",
    "  x0.data -= lr * x0.grad \n",
    "  x1.data -= lr * x1.grad\n",
    "\n"
   ]
  },
  {
   "cell_type": "code",
   "execution_count": 84,
   "metadata": {},
   "outputs": [
    {
     "name": "stdout",
     "output_type": "stream",
     "text": [
      "0 | 0.0 | 2.0 | 401.000000000000\n",
      "5000 | 0.956989998353024 | 0.915653246202195 | 0.00185297937721641\n",
      "10000 | 0.994498436778244 | 0.989005052741957 | 0.0000303159859122180\n",
      "15000 | 0.999259006936286 | 0.998515596464886 | 5.49950719885607E-7\n",
      "20000 | 0.999899539411104 | 0.999798686887342 | 1.01084925079552E-8\n",
      "25000 | 0.999986367943414 | 0.999972681522202 | 1.86130542020810E-10\n",
      "30000 | 0.999998149968564 | 0.999996292537460 | 3.42809688847508E-12\n",
      "35000 | 0.999999748924751 | 0.999999496844863 | 6.31397233761947E-14\n",
      "40000 | 0.999999965925487 | 0.999999931714622 | 1.16293164755335E-15\n",
      "45000 | 0.999999995375599 | 0.999999990732692 | 2.14193318800070E-17\n",
      "50000 | 0.999999999372402 | 0.999999998742292 | 3.94510448939133E-19\n"
     ]
    }
   ],
   "source": [
    "import sympy as sy\n",
    "\n",
    "x0, x1 = sy.symbols('x0 x1')\n",
    "f = 100 * ( x1 - x0 ** 2 ) ** 2 + ( 1 - x0 ) ** 2\n",
    "\n",
    "dfdx0 = sy.diff(f, x0)\n",
    "dfdx1 = sy.diff(f, x1)\n",
    "\n",
    "learningRate = 0.001\n",
    "iterations = 50001\n",
    "\n",
    "init_x0 = 0.0\n",
    "init_x1 = 2.0\n",
    "\n",
    "temp_x0 = init_x0\n",
    "temp_x1 = init_x1\n",
    "\n",
    "for i in range(iterations):\n",
    "  y = f.subs({x0 : init_x0, x1 : init_x1})\n",
    "  \n",
    "  if i % 5000 == 0: print('{} | {} | {} | {}'.format(i, init_x0, init_x1, y))\n",
    "  \n",
    "  temp_x0 -= learningRate * dfdx0.subs({x0 : init_x0, x1 : init_x1})\n",
    "  temp_x1 -= learningRate * dfdx1.subs({x0 : init_x0, x1 : init_x1})\n",
    "\n",
    "  init_x0 = temp_x0\n",
    "  init_x1 = temp_x1\n",
    "\n",
    "\n",
    "# print(dfdx0.subs({x0 : 0.0, x1 : 2.0}))\n",
    "# print(dfdx1.subs({x0 : 0.0, x1 : 2.0}))\n"
   ]
  },
  {
   "cell_type": "code",
   "execution_count": null,
   "metadata": {},
   "outputs": [],
   "source": []
  }
 ],
 "metadata": {
  "kernelspec": {
   "display_name": "Python 3",
   "language": "python",
   "name": "python3"
  },
  "language_info": {
   "codemirror_mode": {
    "name": "ipython",
    "version": 3
   },
   "file_extension": ".py",
   "mimetype": "text/x-python",
   "name": "python",
   "nbconvert_exporter": "python",
   "pygments_lexer": "ipython3",
   "version": "3.10.2"
  },
  "orig_nbformat": 4
 },
 "nbformat": 4,
 "nbformat_minor": 2
}
