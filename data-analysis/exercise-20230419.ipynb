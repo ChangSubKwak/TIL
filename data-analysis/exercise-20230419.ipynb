{
 "cells": [
  {
   "cell_type": "code",
   "execution_count": 38,
   "id": "403c3a9b",
   "metadata": {},
   "outputs": [
    {
     "name": "stderr",
     "output_type": "stream",
     "text": [
      "Clipping input data to the valid range for imshow with RGB data ([0..1] for floats or [0..255] for integers).\n",
      "Clipping input data to the valid range for imshow with RGB data ([0..1] for floats or [0..255] for integers).\n"
     ]
    },
    {
     "data": {
      "image/png": "[encoded data removed]",
      "text/plain": [
       "<Figure size 720x288 with 4 Axes>"
      ]
     },
     "metadata": {
      "needs_background": "light"
     },
     "output_type": "display_data"
    }
   ],
   "source": [
    "plt.figure(figsize=(10,4))\n",
    "for cnt,x in enumerate(range(200,400,50)):\n",
    "    tmp=duckRGB+x\n",
    "    plt.subplot(1,4,cnt+1)\n",
    "    plt.imshow(tmp)\n",
    "# tmp"
   ]
  },
  {
   "cell_type": "code",
   "execution_count": 28,
   "id": "3ac0eca7",
   "metadata": {},
   "outputs": [
    {
     "data": {
      "image/png": "[encoded data removed]",
      "text/plain": [
       "<Figure size 720x288 with 4 Axes>"
      ]
     },
     "metadata": {
      "needs_background": "light"
     },
     "output_type": "display_data"
    }
   ],
   "source": [
    "plt.figure(figsize=(10,4))\n",
    "for cnt,x in enumerate(range(200,400,50)):\n",
    "    \n",
    "    tmp=np.array(duckRGB+x, dtype=np.uint8)\n",
    "    plt.subplot(1,4,cnt+1)\n",
    "    plt.imshow(tmp)\n",
    "    tmp"
   ]
  },
  {
   "cell_type": "code",
   "execution_count": 27,
   "id": "52bb78ab",
   "metadata": {},
   "outputs": [
    {
     "data": {
      "text/plain": [
       "array([[253, 253, 253, 253, 253, 253, 253, 253, 253, 253, 253, 253, 253,\n",
       "        253, 253, 253],\n",
       "       [253, 253, 253, 253, 253, 253, 253, 253, 253, 253, 253, 253, 253,\n",
       "        253, 253, 253],\n",
       "       [253, 253, 253, 253, 125, 125, 125, 125, 125, 253, 253, 253, 253,\n",
       "        253, 253, 253],\n",
       "       [253, 253, 253, 125, 125, 125, 125, 125, 125, 125, 253, 253, 253,\n",
       "        253, 253, 253],\n",
       "       [253, 253, 253, 152, 125,   0, 125, 125, 125, 125, 253, 253, 253,\n",
       "        253, 253, 253],\n",
       "       [253, 152, 152, 152, 125, 125, 125, 125, 125, 125, 253, 253, 253,\n",
       "        253, 253, 253],\n",
       "       [253, 253, 152, 152, 152, 125, 125, 125, 125, 253, 253, 253, 253,\n",
       "        253, 253, 253],\n",
       "       [253, 253, 253, 253, 125, 125, 125, 125, 253, 125, 125, 125, 253,\n",
       "        125, 253, 253],\n",
       "       [253, 253, 253, 125, 125, 125, 125, 125, 125, 125, 125, 125,   0,\n",
       "        125, 253, 253],\n",
       "       [253, 253, 125, 125, 125, 125, 125,   0, 125, 125, 125,   0, 125,\n",
       "        125, 253, 253],\n",
       "       [253, 253, 125, 125, 125, 125, 125, 125,   0,   0,   0, 125, 125,\n",
       "        125, 253, 253],\n",
       "       [184, 184, 125, 125, 125, 125, 125, 125, 125, 125, 125, 125, 125,\n",
       "        125, 184, 184],\n",
       "       [184, 184, 184, 125, 125, 125, 125, 125, 125, 125, 125, 125, 125,\n",
       "        184, 184, 184],\n",
       "       [184, 184, 184, 184, 125, 125, 125, 125, 125, 125, 125, 125, 184,\n",
       "        184, 184, 184],\n",
       "       [184, 184, 184, 184, 184, 184, 184, 184, 184, 184, 184, 184, 184,\n",
       "        184, 184, 184],\n",
       "       [184, 184, 184, 184, 184, 184, 184, 184, 184, 184, 184, 184, 184,\n",
       "        184, 184, 184]], dtype=uint8)"
      ]
     },
     "execution_count": 27,
     "metadata": {},
     "output_type": "execute_result"
    },
    {
     "data": {
      "image/png": "[encoded data removed]",
      "text/plain": [
       "<Figure size 432x288 with 1 Axes>"
      ]
     },
     "metadata": {
      "needs_background": "light"
     },
     "output_type": "display_data"
    }
   ],
   "source": [
    "tmp=duckRGB[:,:,0]+duckRGB[:,:,1]+duckRGB[:,:,2]\n",
    "tmp=np.array(tmp,dtype=np.uint8)\n",
    "plt.imshow(tmp,cmap='gray')\n",
    "tmp"
   ]
  },
  {
   "cell_type": "code",
   "execution_count": null,
   "id": "2ba813eb",
   "metadata": {},
   "outputs": [],
   "source": []
  }
 ],
 "metadata": {
  "kernelspec": {
   "display_name": "Python 3",
   "language": "python",
   "name": "python3"
  },
  "language_info": {
   "codemirror_mode": {
    "name": "ipython",
    "version": 3
   },
   "file_extension": ".py",
   "mimetype": "text/x-python",
   "name": "python",
   "nbconvert_exporter": "python",
   "pygments_lexer": "ipython3",
   "version": "3.6.8"
  }
 },
 "nbformat": 4,
 "nbformat_minor": 5
}
